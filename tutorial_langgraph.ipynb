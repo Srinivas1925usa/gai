{
 "cells": [
  {
   "cell_type": "code",
   "execution_count": null,
   "metadata": {},
   "outputs": [],
   "source": [
    "%pip install --upgrade --user --quiet \\\n",
    "    \"google-cloud-aiplatform[agent_engines,langchain]\" \\\n",
    "    cloudpickle==3.0.0 \\\n",
    "    \"pydantic>=2.10\" \\\n",
    "    langgraph \\\n",
    "    httpx"
   ]
  },
  {
   "cell_type": "code",
   "execution_count": null,
   "metadata": {},
   "outputs": [],
   "source": [
    "#PROJECT_ID = \"[your-project-id]\"  # @param {type:\"string\"}\n",
    "#LOCATION = \"us-central1\"  # @param {type:\"string\"}\n",
    "#STAGING_BUCKET = \"gs://[your-staging-bucket]\"  # @param {type:\"string\"}\n",
    "import vertexai\n",
    "\n",
    "vertexai.init(project=PROJECT_ID, location=LOCATION, staging_bucket=STAGING_BUCKET)"
   ]
  },
  {
   "cell_type": "code",
   "execution_count": null,
   "metadata": {},
   "outputs": [],
   "source": [
    "from typing import Literal\n",
    "\n",
    "from langchain_core.messages import BaseMessage, HumanMessage\n",
    "from langchain_core.tools import tool\n",
    "from langchain_google_vertexai import ChatVertexAI\n",
    "from langgraph.graph import END, MessageGraph\n",
    "from langgraph.prebuilt import ToolNode\n",
    "from vertexai import agent_engines"
   ]
  },
  {
   "cell_type": "code",
   "execution_count": null,
   "metadata": {},
   "outputs": [],
   "source": [
    "@tool\n",
    "def get_product_details(product_name: str):\n",
    "    \"\"\"Gathers basic details about a product\"\"\"\n",
    "    details = {\n",
    "        \"smartphone\": \"A cutting edge smartphone with advanced camera features and lightning-fast processing.\",\n",
    "        \"coffee\": \"A rich, Aromatic blend of ethically sourced coffee beans.\",\n",
    "        \"Shoes\": \"High-performance running shoes designed for comfort, support, and speed.\",        \n",
    "    }\n",
    "\n",
    "    return details.get(product_name, \"Product details not found.\")"
   ]
  },
  {
   "cell_type": "code",
   "execution_count": null,
   "metadata": {},
   "outputs": [],
   "source": [
    "def router(state: list[BaseMessage]) -> Literal[\"get_product_details\",\"__end__\"]:\n",
    "    \"\"\"Initiates the product details retreival if the user asks for a product.\"\"\"\n",
    "    #Get the tool_calls from the last message in the conversation history.\n",
    "    tool_calls = state[-1].tool_calls\n",
    "    if len(tool_calls):\n",
    "        return \"get_product_details\"\n",
    "    else:\n",
    "        #End the conversation flow.\n",
    "        return \"__end__\""
   ]
  },
  {
   "cell_type": "code",
   "execution_count": null,
   "metadata": {},
   "outputs": [],
   "source": [
    "class SimpleLangGraphApp:\n",
    "    def __init__(self, project: str, location: str) -> None:\n",
    "        self.project_id = project \n",
    "        self.location = location\n",
    "\n",
    "# The set_up method is used to define application initialization logic\n",
    "    def set_up(self) -> None:\n",
    "        model = ChatVertexAI(model=\"gemini-2.0-flash\")\n",
    "\n",
    "        builder = MessageGraph()\n",
    "\n",
    "        model_with_tools = model.bind_tools([get_product_details])\n",
    "        builder.add_node(\"tools\", model_with_tools)\n",
    "\n",
    "        tool_node = ToolNode([get_product_details])\n",
    "        builder.add_node(\"get_product_details\", tool_node)\n",
    "        builder.add_edge(\"get_product_details\", END)\n",
    "\n",
    "        builder.set_entry_point(\"tools\")\n",
    "        builder.add_conditional_edges(\"tools\", router)\n",
    "        self.runnable = builder.compile()\n",
    "\n",
    "    def query(self, message:str):\n",
    "        \"\"\"Query the application.\n",
    "        \n",
    "        Args: \n",
    "            message: The user message.\n",
    "        \n",
    "        Returns:\n",
    "            str: The LLM response.\n",
    "        \"\"\"\n",
    "\n",
    "        chat_history = self.runnable.invoke(HumanMessage(message))\n",
    "\n",
    "        return chat_history[-1].content"
   ]
  },
  {
   "cell_type": "code",
   "execution_count": null,
   "metadata": {},
   "outputs": [],
   "source": [
    "agent = SimpleLangGraphApp(project=PROJECT_ID, location=LOCATION)\n",
    "agent.set_up()"
   ]
  },
  {
   "cell_type": "code",
   "execution_count": null,
   "metadata": {},
   "outputs": [],
   "source": [
    "agent.query(message=\"Get product details for smartphone\")"
   ]
  },
  {
   "cell_type": "code",
   "execution_count": null,
   "metadata": {},
   "outputs": [],
   "source": [
    "\n",
    "agent.query(message=\"Get product details for coffee\")"
   ]
  },
  {
   "cell_type": "code",
   "execution_count": null,
   "metadata": {},
   "outputs": [],
   "source": [
    "\n",
    "agent.query(message=\"Get product details for Shoes\")"
   ]
  },
  {
   "cell_type": "code",
   "execution_count": null,
   "metadata": {},
   "outputs": [],
   "source": [
    "remote_agent = agent_engines.create(\n",
    "    SimpleLangGraphApp(project=PROJECT_ID, location=LOCATION),\n",
    "    requirements=[\n",
    "        \"google-cloud-aiplatform[agent_engines,langchain]\",\n",
    "        \"cloudpickle==3.0.0\",\n",
    "        \"pydantic>=2.10\",\n",
    "        \"langgraph\",\n",
    "        \"httpx\",\n",
    "    ],\n",
    "    display_name=\"Agent Engine with LangGraph\",\n",
    "    description=\"This is a sample custom application in Agent Engine that uses LangGraph\",\n",
    "    extra_packages=[],\n",
    ")"
   ]
  },
  {
   "cell_type": "code",
   "execution_count": null,
   "metadata": {},
   "outputs": [],
   "source": [
    "remote_agent.query(message=\"Get product details for coffee\")"
   ]
  },
  {
   "cell_type": "code",
   "execution_count": null,
   "metadata": {},
   "outputs": [],
   "source": [
    "remote_agent.delete()"
   ]
  }
 ],
 "metadata": {
  "kernelspec": {
   "display_name": "Python 3",
   "language": "python",
   "name": "python3"
  },
  "language_info": {
   "codemirror_mode": {
    "name": "ipython",
    "version": 3
   },
   "file_extension": ".py",
   "mimetype": "text/x-python",
   "name": "python",
   "nbconvert_exporter": "python",
   "pygments_lexer": "ipython3",
   "version": "3.12.9"
  }
 },
 "nbformat": 4,
 "nbformat_minor": 2
}
